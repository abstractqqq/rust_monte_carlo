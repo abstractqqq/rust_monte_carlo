{
 "cells": [
  {
   "cell_type": "code",
   "execution_count": 1,
   "metadata": {},
   "outputs": [],
   "source": [
    "import numpy as np\n",
    "rng = np.random.default_rng()"
   ]
  },
  {
   "cell_type": "code",
   "execution_count": 2,
   "metadata": {},
   "outputs": [],
   "source": [
    "def generate_sample_pool(\n",
    "    total_features:int\n",
    "    , subsample_amt:int\n",
    "    , n_estimators:int\n",
    ") -> np.ndarray:\n",
    "    pool = np.full(shape=(n_estimators, total_features), fill_value=False)\n",
    "    for i in range(n_estimators):\n",
    "        feat = np.arange(total_features) \n",
    "        rng.shuffle(feat)\n",
    "        pool[i, :] = feat < subsample_amt\n",
    "\n",
    "    return pool\n",
    "\n",
    "# Monte Carlo\n",
    "def money_carlo_prob_est(\n",
    "    n_trials:int\n",
    "    , total_features:int\n",
    "    , subsample_amt:int\n",
    "    , n_estimators:int\n",
    "    , target_times:int\n",
    ") -> float:\n",
    "    \n",
    "    count = 0\n",
    "    for _ in range(n_trials):\n",
    "        times = generate_sample_pool(total_features, subsample_amt, n_estimators).sum(axis=0)\n",
    "        success = 1\n",
    "        for number in times:\n",
    "            if number < target_times:\n",
    "                success = 0\n",
    "                break\n",
    "        \n",
    "        count += success\n",
    "\n",
    "    return count / n_trials\n"
   ]
  },
  {
   "cell_type": "code",
   "execution_count": 10,
   "metadata": {},
   "outputs": [],
   "source": [
    "from concurrent.futures import ThreadPoolExecutor, as_completed\n",
    "import os \n",
    "\n",
    "def _one_trial(\n",
    "    total_features:int\n",
    "    , subsample_amt:int\n",
    "    , n_estimators:int\n",
    "    , target_times:int\n",
    ") -> int:\n",
    "    times = generate_sample_pool(total_features, subsample_amt, n_estimators).sum(axis=0)\n",
    "    success = 1\n",
    "    for number in times:\n",
    "        if number < target_times:\n",
    "            success = 0\n",
    "            break\n",
    "\n",
    "    return success\n",
    "\n",
    "def par_money_carlo_prob_est(\n",
    "    n_trials:int\n",
    "    , total_features:int\n",
    "    , subsample_amt:int\n",
    "    , n_estimators:int\n",
    "    , target_times:int\n",
    ") -> float:\n",
    "    \n",
    "    count = 0\n",
    "    with ThreadPoolExecutor(max_workers=os.cpu_count()) as ex:\n",
    "        futures = (ex.submit(_one_trial, total_features, subsample_amt, n_estimators, target_times)\n",
    "                   for _ in range(n_trials))\n",
    "        \n",
    "        for f in as_completed(futures):\n",
    "            success = f.result()\n",
    "            count += success\n",
    "\n",
    "    return count / n_trials"
   ]
  },
  {
   "cell_type": "code",
   "execution_count": 11,
   "metadata": {},
   "outputs": [
    {
     "name": "stdout",
     "output_type": "stream",
     "text": [
      "We need 117 estimators to have 95.0% confidence that all features are considered at least 3 times by subsampling 10 for each tree.\n"
     ]
    }
   ],
   "source": [
    "prob = 0.\n",
    "n_estimators = 0\n",
    "n_trials = 500\n",
    "total_features = 100\n",
    "subsample_amt = 10\n",
    "target_times = 3\n",
    "\n",
    "threshold = 0.95\n",
    "\n",
    "while prob < threshold:\n",
    "    n_estimators += 1\n",
    "    prob = par_money_carlo_prob_est(\n",
    "        n_trials=n_trials\n",
    "        , total_features=total_features\n",
    "        , subsample_amt = subsample_amt\n",
    "        , n_estimators=n_estimators\n",
    "        , target_times=target_times\n",
    "    )\n",
    "\n",
    "print(f\"We need {n_estimators} estimators to have {threshold*100}% confidence that all features are considered \"\n",
    "      f\"at least {target_times} times by subsampling {subsample_amt} for each tree.\")"
   ]
  },
  {
   "cell_type": "code",
   "execution_count": null,
   "metadata": {},
   "outputs": [],
   "source": [
    "def run_experiment(\n",
    "    target_times:int\n",
    "    , total_features:int\n",
    "    , subsample_amt:int\n",
    "    , n_trials:int\n",
    "    , threshold:float\n",
    ") -> int:\n",
    "    prob = 0.\n",
    "    n_estimators = 0\n",
    "\n",
    "    while prob < threshold:\n",
    "        n_estimators += 1\n",
    "        prob = money_carlo_prob_est(\n",
    "            n_trials=n_trials\n",
    "            , total_features=total_features\n",
    "            , subsample_amt = subsample_amt\n",
    "            , n_estimators=n_estimators\n",
    "            , target_times=target_times\n",
    "        )\n",
    "\n",
    "    return n_estimators"
   ]
  },
  {
   "cell_type": "code",
   "execution_count": null,
   "metadata": {},
   "outputs": [],
   "source": [
    "run_experiment(target_times=6,total_features=100,subsample_amt=60,n_trials=500,threshold=0.95)"
   ]
  },
  {
   "cell_type": "code",
   "execution_count": null,
   "metadata": {},
   "outputs": [],
   "source": [
    "%%timeit\n",
    "run_experiment(target_times=6,total_features=100,subsample_amt=60,n_trials=500,threshold=0.95)"
   ]
  },
  {
   "cell_type": "code",
   "execution_count": null,
   "metadata": {},
   "outputs": [],
   "source": []
  }
 ],
 "metadata": {
  "kernelspec": {
   "display_name": "py3.11",
   "language": "python",
   "name": "python3"
  },
  "language_info": {
   "codemirror_mode": {
    "name": "ipython",
    "version": 3
   },
   "file_extension": ".py",
   "mimetype": "text/x-python",
   "name": "python",
   "nbconvert_exporter": "python",
   "pygments_lexer": "ipython3",
   "version": "3.11.3"
  },
  "orig_nbformat": 4
 },
 "nbformat": 4,
 "nbformat_minor": 2
}
